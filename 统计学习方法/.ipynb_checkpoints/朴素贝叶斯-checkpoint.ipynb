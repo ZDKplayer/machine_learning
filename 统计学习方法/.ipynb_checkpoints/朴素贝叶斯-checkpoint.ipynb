{
 "cells": [
  {
   "cell_type": "code",
   "execution_count": 1,
   "id": "683ce92b-cd00-4ac2-bb9c-b528d8719ae4",
   "metadata": {},
   "outputs": [
    {
     "name": "stdout",
     "output_type": "stream",
     "text": [
      "[[5.1 3.5 1.4 0.2]\n",
      " [4.9 3.  1.4 0.2]\n",
      " [4.7 3.2 1.3 0.2]\n",
      " [4.6 3.1 1.5 0.2]\n",
      " [5.  3.6 1.4 0.2]\n",
      " [5.4 3.9 1.7 0.4]\n",
      " [4.6 3.4 1.4 0.3]\n",
      " [5.  3.4 1.5 0.2]\n",
      " [4.4 2.9 1.4 0.2]\n",
      " [4.9 3.1 1.5 0.1]]\n",
      "[0 0 0 0 0 0 0 0 0 0 0 0 0 0 0 0 0 0 0 0 0 0 0 0 0 0 0 0 0 0 0 0 0 0 0 0 0\n",
      " 0 0 0 0 0 0 0 0 0 0 0 0 0 1 1 1 1 1 1 1 1 1 1 1 1 1 1 1 1 1 1 1 1 1 1 1 1\n",
      " 1 1 1 1 1 1 1 1 1 1 1 1 1 1 1 1 1 1 1 1 1 1 1 1 1 1 2 2 2 2 2 2 2 2 2 2 2\n",
      " 2 2 2 2 2 2 2 2 2 2 2 2 2 2 2 2 2 2 2 2 2 2 2 2 2 2 2 2 2 2 2 2 2 2 2 2 2\n",
      " 2 2]\n"
     ]
    }
   ],
   "source": [
    "from sklearn import datasets\n",
    "import numpy as np\n",
    "iris = datasets.load_iris()#鸢(yuan)尾花数据集\n",
    "x=iris.data\n",
    "y=iris.target\n",
    "print(x[:10])#4个特征\n",
    "print(y)#3类"
   ]
  },
  {
   "cell_type": "code",
   "execution_count": 2,
   "id": "71dac806-516f-4d07-a13c-1f65b3298f91",
   "metadata": {},
   "outputs": [],
   "source": [
    "from sklearn.model_selection import train_test_split\n",
    "x_train, x_test, y_train, y_test = train_test_split(x,y,test_size=0.25)#分割训练和测试数据集"
   ]
  },
  {
   "cell_type": "code",
   "execution_count": 3,
   "id": "5159bbd4-66e9-4610-9200-c635476a936c",
   "metadata": {},
   "outputs": [
    {
     "data": {
      "text/plain": [
       "BernoulliNB()"
      ]
     },
     "execution_count": 3,
     "metadata": {},
     "output_type": "execute_result"
    }
   ],
   "source": [
    "#使用sklearn导入高斯朴素贝叶斯，多项式朴素贝叶斯，伯努力朴素贝叶斯并训练\n",
    "from sklearn.naive_bayes import GaussianNB,MultinomialNB,BernoulliNB\n",
    "clf1 = GaussianNB()\n",
    "clf1.fit(x_train,y_train)\n",
    "\n",
    "clf2 = MultinomialNB()\n",
    "clf2.fit(x_train,y_train)\n",
    "\n",
    "clf3 = BernoulliNB()\n",
    "clf3.fit(x_train,y_train)"
   ]
  },
  {
   "cell_type": "code",
   "execution_count": 4,
   "id": "bb8d77fa-e564-445a-a1f1-63f02dc0de87",
   "metadata": {},
   "outputs": [
    {
     "name": "stdout",
     "output_type": "stream",
     "text": [
      "Gauss:\n",
      "[0 1 1]\n",
      "[[1.00000000e+000 4.63122558e-018 1.75152668e-028]\n",
      " [3.98750134e-075 9.99993195e-001 6.80464396e-006]\n",
      " [5.59763708e-126 9.38447095e-001 6.15529050e-002]]\n",
      "\n",
      "Multi:\n",
      "[0 1 1]\n",
      "[[0.76836453 0.15776562 0.07386985]\n",
      " [0.07340508 0.52088732 0.4057076 ]\n",
      " [0.04368014 0.53341703 0.42290283]]\n",
      "\n",
      "Bernou:\n",
      "[0 0 0]\n",
      "[[0.34968097 0.34968097 0.30063805]\n",
      " [0.34968097 0.34968097 0.30063805]\n",
      " [0.34968097 0.34968097 0.30063805]]\n"
     ]
    }
   ],
   "source": [
    "#在测试集预测结果\n",
    "def print_predict(clf):\n",
    "    y_predict=clf.predict(x_test)\n",
    "    y_proba=clf.predict_proba(x_test)\n",
    "    print(y_predict[:3])\n",
    "    print(y_proba[:3])\n",
    "\n",
    "print('Gauss:')\n",
    "print_predict(clf1)\n",
    "print('\\nMulti:')\n",
    "print_predict(clf2)\n",
    "print('\\nBernou:')\n",
    "print_predict(clf3)"
   ]
  },
  {
   "cell_type": "code",
   "execution_count": 5,
   "id": "754879a0-8aa9-4eee-845a-cd9f7d2f7659",
   "metadata": {},
   "outputs": [
    {
     "name": "stdout",
     "output_type": "stream",
     "text": [
      "Gauss:\n",
      "accuracy:92.11%\n",
      "precision:[100.    83.33  93.33]%\n",
      "recall:[100.    90.91  87.5 ]%\n",
      "\n",
      "Multi:\n",
      "accuracy:71.05%\n",
      "precision:[100.  50. 100.]%\n",
      "recall:[100.   100.    31.25]%\n",
      "\n",
      "Bernou:\n",
      "accuracy:28.95%\n",
      "precision:[28.95  0.    0.  ]%\n",
      "recall:[100.   0.   0.]%\n"
     ]
    },
    {
     "name": "stderr",
     "output_type": "stream",
     "text": [
      "/home/zdk/software/anaconda/lib/python3.8/site-packages/sklearn/metrics/_classification.py:1245: UndefinedMetricWarning: Precision is ill-defined and being set to 0.0 in labels with no predicted samples. Use `zero_division` parameter to control this behavior.\n",
      "  _warn_prf(average, modifier, msg_start, len(result))\n"
     ]
    }
   ],
   "source": [
    "#输出指标\n",
    "from sklearn.metrics import accuracy_score,precision_score,recall_score\n",
    "def print_clf_metrics(y_true, y_pred):\n",
    "    acc=accuracy_score(y_true,y_pred)\n",
    "    pre=precision_score(y_true,y_pred,average=None)\n",
    "    recall=recall_score(y_true,y_pred,average=None)\n",
    "    print('accuracy:{:.2f}%'.format(100*acc))\n",
    "    print('precision:{}%'.format(np.round(100*pre,2)))\n",
    "    print('recall:{}%'.format(np.round(100*recall,2)))\n",
    "    \n",
    "print('Gauss:')\n",
    "print_clf_metrics(y_test,clf1.predict(x_test))\n",
    "print('\\nMulti:')\n",
    "print_clf_metrics(y_test,clf2.predict(x_test))\n",
    "print('\\nBernou:')\n",
    "print_clf_metrics(y_test,clf3.predict(x_test))"
   ]
  },
  {
   "cell_type": "markdown",
   "id": "ff0df391-6455-41bf-bbd0-808d53df77bd",
   "metadata": {},
   "source": [
    "总结：\n",
    "1. 一般来说，如果样本特征的分布大部分是连续值，使用GaussianNB会比较好。\n",
    "2. 如果如果样本特征的分布大部分是多元离散值，使用MultinomialNB比较合适。\n",
    "3. 而如果样本特征是二元离散值或者很稀疏的多元离散值，应该使用BernoulliNB"
   ]
  }
 ],
 "metadata": {
  "kernelspec": {
   "display_name": "Python 3",
   "language": "python",
   "name": "python3"
  },
  "language_info": {
   "codemirror_mode": {
    "name": "ipython",
    "version": 3
   },
   "file_extension": ".py",
   "mimetype": "text/x-python",
   "name": "python",
   "nbconvert_exporter": "python",
   "pygments_lexer": "ipython3",
   "version": "3.8.8"
  }
 },
 "nbformat": 4,
 "nbformat_minor": 5
}
