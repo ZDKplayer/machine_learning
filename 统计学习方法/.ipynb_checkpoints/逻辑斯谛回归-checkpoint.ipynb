{
 "cells": [
  {
   "cell_type": "code",
   "execution_count": 1,
   "id": "0f7db71c-5652-4eb5-a223-8762b06de908",
   "metadata": {},
   "outputs": [],
   "source": [
    "import numpy as np\n",
    "import matplotlib.pyplot as plt\n",
    "from sklearn.linear_model import LogisticRegression\n",
    "from sklearn.datasets import load_iris,load_breast_cancer\n",
    "from sklearn.model_selection import train_test_split,GridSearchCV\n",
    "from sklearn.metrics import classification_report"
   ]
  },
  {
   "cell_type": "markdown",
   "id": "128092c2-4be8-4d50-919a-ab8767f18324",
   "metadata": {},
   "source": [
    "# 1. 二分类问题"
   ]
  },
  {
   "cell_type": "code",
   "execution_count": 2,
   "id": "f9b2e111-4e00-42b0-b8e3-b1315c7e9cd4",
   "metadata": {},
   "outputs": [
    {
     "name": "stdout",
     "output_type": "stream",
     "text": [
      "(569, 30)\n"
     ]
    }
   ],
   "source": [
    "X,y=load_breast_cancer(return_X_y=True)#乳腺癌数据，二分类问题\n",
    "print(X.shape)\n",
    "X_train, X_test, y_train, y_test = train_test_split(X,y,test_size=0.25,random_state=0)#分割训练和测试数据集"
   ]
  },
  {
   "cell_type": "markdown",
   "id": "028dc420-e281-4b2b-9797-34c9a3d1db07",
   "metadata": {},
   "source": [
    "## 单参数搜索"
   ]
  },
  {
   "cell_type": "code",
   "execution_count": 3,
   "id": "2460ba52-0c88-4897-8d5d-5bdec3fdaf77",
   "metadata": {},
   "outputs": [
    {
     "data": {
      "text/plain": [
       "Text(0, 0.5, 'score')"
      ]
     },
     "execution_count": 3,
     "metadata": {},
     "output_type": "execute_result"
    },
    {
     "data": {
      "image/png": "[encoded data removed]",
      "text/plain": [
       "<Figure size 432x288 with 1 Axes>"
      ]
     },
     "metadata": {
      "needs_background": "light"
     },
     "output_type": "display_data"
    }
   ],
   "source": [
    "score=[]\n",
    "C=np.arange(0.1,1.1,0.1)\n",
    "for c in C:\n",
    "    clf=LogisticRegression(max_iter=3000,C=c)\n",
    "    clf.fit(X_train,y_train)\n",
    "    score.append(clf.score(X_test,y_test))\n",
    "plt.plot(C,score,'o--')\n",
    "plt.xlabel('C')\n",
    "plt.ylabel('score')"
   ]
  },
  {
   "cell_type": "code",
   "execution_count": 4,
   "id": "c906fe59-686c-4cce-9a8b-f98a18ff8cb7",
   "metadata": {},
   "outputs": [
    {
     "name": "stdout",
     "output_type": "stream",
     "text": [
      "test dataset:\n",
      "              precision    recall  f1-score   support\n",
      "\n",
      "           0      0.955     0.931     0.943       159\n",
      "           1      0.959     0.974     0.967       267\n",
      "\n",
      "    accuracy                          0.958       426\n",
      "   macro avg      0.957     0.952     0.955       426\n",
      "weighted avg      0.958     0.958     0.958       426\n",
      "\n",
      "############################################################\n",
      "train dataset:\n",
      "              precision    recall  f1-score   support\n",
      "\n",
      "           0      0.897     0.981     0.937        53\n",
      "           1      0.988     0.933     0.960        90\n",
      "\n",
      "    accuracy                          0.951       143\n",
      "   macro avg      0.942     0.957     0.948       143\n",
      "weighted avg      0.954     0.951     0.951       143\n",
      "\n"
     ]
    }
   ],
   "source": [
    "clf=LogisticRegression(max_iter=3000,C=0.4)\n",
    "clf.fit(X_train,y_train)\n",
    "print('test dataset:')\n",
    "print(classification_report(y_true=y_train,y_pred=clf.predict(X_train),digits=3))\n",
    "print('#'*60)\n",
    "print('train dataset:')\n",
    "print(classification_report(y_true=y_test,y_pred=clf.predict(X_test),digits=3))"
   ]
  },
  {
   "cell_type": "markdown",
   "id": "9e3bd47a-7f0b-4bea-8f63-89cc01d1cdc3",
   "metadata": {},
   "source": [
    "## 多参数网格搜索"
   ]
  },
  {
   "cell_type": "markdown",
   "id": "d294edba-a8a4-4441-92a8-a921183cbcfc",
   "metadata": {},
   "source": [
    "![title](./逻辑回归求解器选择.png)"
   ]
  },
  {
   "cell_type": "code",
   "execution_count": 5,
   "id": "b1c671c6-8ae3-4539-918e-941842121720",
   "metadata": {
    "scrolled": true,
    "tags": []
   },
   "outputs": [
    {
     "data": {
      "text/plain": [
       "0.9106976744186046"
      ]
     },
     "execution_count": 5,
     "metadata": {},
     "output_type": "execute_result"
    }
   ],
   "source": [
    "param_grid={\n",
    "            'penalty':['l1','l2'],\n",
    "            'C':C\n",
    "            }\n",
    "grid1 = GridSearchCV(estimator=LogisticRegression(max_iter=6000,solver='saga',),param_grid=param_grid)#使用网格搜索得到最佳模型参数\n",
    "grid1.fit(X_train,y_train)\n",
    "grid1.best_score_"
   ]
  },
  {
   "cell_type": "code",
   "execution_count": 6,
   "id": "6664c291-8d78-48c0-a6fa-af805ed4850c",
   "metadata": {},
   "outputs": [
    {
     "name": "stdout",
     "output_type": "stream",
     "text": [
      "              precision    recall  f1-score   support\n",
      "\n",
      "           0       0.96      0.89      0.92        53\n",
      "           1       0.94      0.98      0.96        90\n",
      "\n",
      "    accuracy                           0.94       143\n",
      "   macro avg       0.95      0.93      0.94       143\n",
      "weighted avg       0.94      0.94      0.94       143\n",
      "\n"
     ]
    }
   ],
   "source": [
    "print(classification_report(y_test,grid1.best_estimator_.predict(X_test)))"
   ]
  },
  {
   "cell_type": "code",
   "execution_count": 7,
   "id": "ea9d1ed0-6c61-40ea-9b0b-3a3bfbae7e55",
   "metadata": {
    "scrolled": true,
    "tags": []
   },
   "outputs": [
    {
     "data": {
      "text/plain": [
       "0.9576744186046511"
      ]
     },
     "execution_count": 7,
     "metadata": {},
     "output_type": "execute_result"
    }
   ],
   "source": [
    "param_grid={\n",
    "            'penalty':['l2'],\n",
    "            'C':C\n",
    "            }\n",
    "grid2 = GridSearchCV(estimator=LogisticRegression(max_iter=6000,solver='lbfgs',),param_grid=param_grid)#使用网格搜索得到最佳模型参数\n",
    "grid2.fit(X_train,y_train)\n",
    "grid2.best_score_"
   ]
  },
  {
   "cell_type": "code",
   "execution_count": 8,
   "id": "df421f8f-2135-448e-b8a3-a4baa717333b",
   "metadata": {},
   "outputs": [
    {
     "name": "stdout",
     "output_type": "stream",
     "text": [
      "              precision    recall  f1-score   support\n",
      "\n",
      "           0       0.90      0.98      0.94        53\n",
      "           1       0.99      0.93      0.96        90\n",
      "\n",
      "    accuracy                           0.95       143\n",
      "   macro avg       0.94      0.96      0.95       143\n",
      "weighted avg       0.95      0.95      0.95       143\n",
      "\n"
     ]
    }
   ],
   "source": [
    "print(classification_report(y_test,grid2.best_estimator_.predict(X_test)))"
   ]
  },
  {
   "cell_type": "markdown",
   "id": "cf317475-ae00-4450-95f4-b8196f6b3f21",
   "metadata": {},
   "source": [
    "### 从上面的例子也可以看出lbfgs求解器得到的结果更好一些。"
   ]
  },
  {
   "cell_type": "markdown",
   "id": "bf5680c5-6daf-4971-956f-1ff57f3573b3",
   "metadata": {},
   "source": [
    "# 2. 多分类问题"
   ]
  },
  {
   "cell_type": "code",
   "execution_count": 9,
   "id": "a048535c-7cd5-469c-a241-64f76c5752cf",
   "metadata": {},
   "outputs": [
    {
     "name": "stdout",
     "output_type": "stream",
     "text": [
      "(150, 4)\n"
     ]
    }
   ],
   "source": [
    "X,y=load_iris(return_X_y=True)#鸢尾花数据，三分类问题\n",
    "print(X.shape)\n",
    "X_train, X_test, y_train, y_test = train_test_split(X,y,test_size=0.25,random_state=0)#分割训练和测试数据集"
   ]
  },
  {
   "cell_type": "code",
   "execution_count": 10,
   "id": "28368094-cb11-4bdc-87c0-1bbc5c34c85d",
   "metadata": {},
   "outputs": [
    {
     "data": {
      "text/plain": [
       "0.9640316205533598"
      ]
     },
     "execution_count": 10,
     "metadata": {},
     "output_type": "execute_result"
    }
   ],
   "source": [
    "param_grid={\n",
    "            'C':C\n",
    "            }\n",
    "#multi_class控制二分类或多分类，默认选择是'auto'，即自动地根据输入的类别确定分类问题\n",
    "grid = GridSearchCV(estimator=LogisticRegression(multi_class='auto',max_iter=6000,solver='lbfgs',penalty='l2'),\\\n",
    "                    param_grid=param_grid)#使用网格搜索得到最佳模型参数\n",
    "grid.fit(X_train,y_train)\n",
    "grid.best_score_"
   ]
  },
  {
   "cell_type": "code",
   "execution_count": 11,
   "id": "633b6b7e-f01d-40a1-94ce-137b9ab0d2b7",
   "metadata": {},
   "outputs": [
    {
     "name": "stdout",
     "output_type": "stream",
     "text": [
      "              precision    recall  f1-score   support\n",
      "\n",
      "           0       1.00      1.00      1.00        13\n",
      "           1       1.00      0.94      0.97        16\n",
      "           2       0.90      1.00      0.95         9\n",
      "\n",
      "    accuracy                           0.97        38\n",
      "   macro avg       0.97      0.98      0.97        38\n",
      "weighted avg       0.98      0.97      0.97        38\n",
      "\n"
     ]
    }
   ],
   "source": [
    "print(classification_report(y_test,grid.best_estimator_.predict(X_test)))"
   ]
  }
 ],
 "metadata": {
  "kernelspec": {
   "display_name": "Python 3",
   "language": "python",
   "name": "python3"
  },
  "language_info": {
   "codemirror_mode": {
    "name": "ipython",
    "version": 3
   },
   "file_extension": ".py",
   "mimetype": "text/x-python",
   "name": "python",
   "nbconvert_exporter": "python",
   "pygments_lexer": "ipython3",
   "version": "3.8.8"
  }
 },
 "nbformat": 4,
 "nbformat_minor": 5
}
